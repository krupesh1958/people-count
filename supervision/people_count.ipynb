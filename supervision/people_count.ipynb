{
 "cells": [
  {
   "cell_type": "code",
   "execution_count": null,
   "metadata": {},
   "outputs": [],
   "source": [
    "!pip install supervision"
   ]
  },
  {
   "cell_type": "code",
   "execution_count": null,
   "metadata": {},
   "outputs": [],
   "source": [
    "!pip install ultralytics"
   ]
  },
  {
   "cell_type": "code",
   "execution_count": null,
   "metadata": {},
   "outputs": [],
   "source": [
    "!wget --load-cookies /tmp/cookies.txt \"https://docs.google.com/uc?export=download&confirm=$(wget --quiet --save-cookies /tmp/cookies.txt --keep-session-cookies --no-check-certificate 'https://docs.google.com/uc?export=download&id=1M3UuH3QNDWGiH0NmGgHtIgXXGDo_nigm' -O- | sed -rn 's/.*confirm=([0-9A-Za-z_]+).*/\\1\\n/p')&id=1M3UuH3QNDWGiH0NmGgHtIgXXGDo_nigm\" -O mall.mp4 && rm -rf /tmp/cookies.txt"
   ]
  },
  {
   "cell_type": "code",
   "execution_count": null,
   "metadata": {},
   "outputs": [],
   "source": [
    "import supervision as sv\n",
    "import cv2\n",
    "\n",
    "generator = sv.get_video_frames_generator(\"./test.webm\")\n",
    "iterator = iter(generator)\n",
    "frame = next(iterator)\n",
    "\n",
    "cv2.imwrite(\"test.png\", frame)"
   ]
  },
  {
   "cell_type": "code",
   "execution_count": 4,
   "metadata": {},
   "outputs": [],
   "source": [
    "import numpy as np\n",
    "import supervision as sv\n",
    "\n",
    "MALL_VIDEO_PATH = \"./test.webm\"\n",
    "\n",
    "# initialize polygon zone\n",
    "polygon = np.array([\n",
    "    [16, 42],[16, 998],[1652, 994],[1660, 42],[8, 34]\n",
    "])"
   ]
  },
  {
   "cell_type": "code",
   "execution_count": null,
   "metadata": {},
   "outputs": [],
   "source": [
    "video_info = sv.VideoInfo.from_video_path(\"./test.webm\")\n",
    "zone = sv.PolygonZone(polygon=polygon, frame_resolution_wh=video_info.resolution_wh)\n",
    "\n",
    "box_annotator = sv.BoxAnnotator(thickness=4, text_thickness=4, text_scale=2)\n",
    "zone_annotator = sv.PolygonZoneAnnotator(zone=zone, color=sv.Color.white(), thickness=6, text_thickness=6, text_scale=4)"
   ]
  },
  {
   "cell_type": "code",
   "execution_count": null,
   "metadata": {},
   "outputs": [],
   "source": [
    "from ultralytics import YOLO\n",
    "\n",
    "model = YOLO(\"yolov8s.pt\")"
   ]
  },
  {
   "cell_type": "code",
   "execution_count": 7,
   "metadata": {},
   "outputs": [],
   "source": [
    "def process_frame(frame: np.ndarray, _) -> np.ndarray:\n",
    "   results = model(frame, imgsz=1280)[0]\n",
    "   detections = sv.Detections.from_yolov8(results)\n",
    "   detections = detections[detections.class_id == 0]\n",
    "   zone.trigger(detections=detections)\n",
    "\n",
    "   box_annotator = sv.BoxAnnotator(thickness=1, text_thickness=1, text_scale=0.10)\n",
    "\n",
    "   labels = [f\"{model.names[class_id]} {confidence:0.2f}\" for _, _, confidence, class_id, _ in detections]\n",
    "   frame = box_annotator.annotate(scene=frame, detections=detections, labels=labels)\n",
    "   frame = zone_annotator.annotate(scene=frame)\n",
    "\n",
    "\n",
    "   return frame"
   ]
  },
  {
   "cell_type": "code",
   "execution_count": null,
   "metadata": {},
   "outputs": [],
   "source": [
    "sv.process_video(source_path=MALL_VIDEO_PATH, target_path=f\"test-121-result.mp4\", callback=process_frame)"
   ]
  }
 ],
 "metadata": {
  "kernelspec": {
   "display_name": ".venv",
   "language": "python",
   "name": "python3"
  },
  "language_info": {
   "codemirror_mode": {
    "name": "ipython",
    "version": 3
   },
   "file_extension": ".py",
   "mimetype": "text/x-python",
   "name": "python",
   "nbconvert_exporter": "python",
   "pygments_lexer": "ipython3",
   "version": "3.9.6"
  }
 },
 "nbformat": 4,
 "nbformat_minor": 2
}
